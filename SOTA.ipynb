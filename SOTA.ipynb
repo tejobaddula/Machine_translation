{
 "cells": [
  {
   "cell_type": "code",
   "execution_count": 1,
   "id": "8a85c35e",
   "metadata": {},
   "outputs": [],
   "source": [
    "import pandas as pd\n",
    "import os\n",
    "import re\n",
    "import torch\n",
    "\n",
    "from io import StringIO\n",
    "from rouge_score import rouge_scorer\n",
    "from sacrebleu.metrics import BLEU\n",
    "from tqdm import tqdm\n",
    "from transformers import pipeline\n",
    "from transformers import MarianMTModel, MarianTokenizer\n",
    "\n",
    "# Set the CUDA visible devices for GPU utilization\n",
    "os.environ[\"CUDA_VISIBLE_DEVICES\"]=\"1\""
   ]
  },
  {
   "cell_type": "code",
   "execution_count": 2,
   "id": "7f35fb04",
   "metadata": {},
   "outputs": [],
   "source": [
    "# Read data\n",
    "file_path = 'data/eng-spa.txt'\n",
    "try:\n",
    "    with open(file_path, 'r') as file:\n",
    "        data = file.read()\n",
    "except FileNotFoundError:\n",
    "    print(\"The specified file was not found.\")\n",
    "except Exception as e:\n",
    "    print(\"An error occurred:\", e)"
   ]
  },
  {
   "cell_type": "code",
   "execution_count": 3,
   "id": "7fe3522b",
   "metadata": {},
   "outputs": [],
   "source": [
    "# Define column names and create a DataFrame from the read data\n",
    "columns = ['English', 'Spanish']\n",
    "df = []\n",
    "for line in data.split('\\n'):\n",
    "    if line:\n",
    "        english, spanish, *_ = line.split('\\t')\n",
    "        df.append([english, spanish])\n",
    "\n",
    "df = pd.DataFrame(df, columns=columns)"
   ]
  },
  {
   "cell_type": "code",
   "execution_count": 4,
   "id": "b42853da",
   "metadata": {},
   "outputs": [],
   "source": [
    "# Preprocess the DataFrame by removing punctuation and converting to lowercase\n",
    "df['English'] = df['English'].apply(lambda x: re.sub(r'[^\\w\\s]', '', x))\n",
    "df['Spanish'] = df['Spanish'].apply(lambda x: re.sub(r'[^\\w\\s]', '', x))\n",
    "df['English'] = df['English'].str.lower()\n",
    "df['Spanish'] = df['Spanish'].str.lower()\n",
    "\n",
    "# Shuffle and select a subset of the DataFrame\n",
    "shuffled_df = df.sample(frac=1).reset_index(drop=True)\n",
    "df = shuffled_df[:24000]\n"
   ]
  },
  {
   "cell_type": "code",
   "execution_count": 5,
   "id": "6b0b7b7b",
   "metadata": {},
   "outputs": [
    {
     "name": "stdout",
     "output_type": "stream",
     "text": [
      "Using device: cuda\n"
     ]
    },
    {
     "name": "stderr",
     "output_type": "stream",
     "text": [
      "100%|██████████| 24000/24000 [38:50<00:00, 10.30it/s] \n",
      "<ipython-input-5-f4d30c4c5af0>:13: SettingWithCopyWarning: \n",
      "A value is trying to be set on a copy of a slice from a DataFrame.\n",
      "Try using .loc[row_indexer,col_indexer] = value instead\n",
      "\n",
      "See the caveats in the documentation: https://pandas.pydata.org/pandas-docs/stable/user_guide/indexing.html#returning-a-view-versus-a-copy\n",
      "  df['Translated_English'] = translated_sentences\n"
     ]
    }
   ],
   "source": [
    "# Check device availability (GPU or CPU)\n",
    "device = torch.device(\"cuda\" if torch.cuda.is_available() else \"cpu\")\n",
    "print(f\"Using device: {device}\")\n",
    "\n",
    "# Load pre-trained MarianMT model and tokenizer\n",
    "model_name = 'Helsinki-NLP/opus-mt-es-en'  # Spanish to English model\n",
    "model = MarianMTModel.from_pretrained(model_name).to(device)\n",
    "tokenizer = MarianTokenizer.from_pretrained(model_name)\n",
    "\n",
    "# Translate Spanish sentences to English using the model\n",
    "translated_sentences = []\n",
    "for sentence in tqdm(df['Spanish']):\n",
    "    inputs = tokenizer.encode(sentence, return_tensors=\"pt\").to(device)\n",
    "    translated = model.generate(inputs)\n",
    "    translated_text = tokenizer.decode(translated[0], skip_special_tokens=True)\n",
    "    translated_sentences.append(translated_text)\n",
    "\n",
    "df['Translated_English'] = translated_sentences\n"
   ]
  },
  {
   "cell_type": "code",
   "execution_count": 6,
   "id": "931058a6",
   "metadata": {},
   "outputs": [
    {
     "name": "stderr",
     "output_type": "stream",
     "text": [
      "<ipython-input-6-9254ca1ab194>:1: SettingWithCopyWarning: \n",
      "A value is trying to be set on a copy of a slice from a DataFrame.\n",
      "Try using .loc[row_indexer,col_indexer] = value instead\n",
      "\n",
      "See the caveats in the documentation: https://pandas.pydata.org/pandas-docs/stable/user_guide/indexing.html#returning-a-view-versus-a-copy\n",
      "  df['Translated_English'] = df['Translated_English'].apply(lambda x: re.sub(r'[^\\w\\s]', '', x))\n",
      "<ipython-input-6-9254ca1ab194>:2: SettingWithCopyWarning: \n",
      "A value is trying to be set on a copy of a slice from a DataFrame.\n",
      "Try using .loc[row_indexer,col_indexer] = value instead\n",
      "\n",
      "See the caveats in the documentation: https://pandas.pydata.org/pandas-docs/stable/user_guide/indexing.html#returning-a-view-versus-a-copy\n",
      "  df['Translated_English'] = df['Translated_English'].str.lower()\n"
     ]
    }
   ],
   "source": [
    "# Further preprocessing on the translated English sentences\n",
    "df['Translated_English'] = df['Translated_English'].apply(lambda x: re.sub(r'[^\\w\\s]', '', x))\n",
    "df['Translated_English'] = df['Translated_English'].str.lower()"
   ]
  },
  {
   "cell_type": "code",
   "execution_count": 7,
   "id": "2a2c4352",
   "metadata": {},
   "outputs": [],
   "source": [
    "# Evaluate BLEU score\n",
    "eng_ref = df['English'].tolist()\n",
    "eng_hyp = df['Translated_English'].tolist()\n",
    "bleu = BLEU()\n",
    "result = bleu.corpus_score(eng_ref, [eng_hyp])"
   ]
  },
  {
   "cell_type": "code",
   "execution_count": 8,
   "id": "866aa095",
   "metadata": {},
   "outputs": [
    {
     "data": {
      "text/plain": [
       "BLEU = 58.01 78.0/62.8/52.3/44.2 (BP = 1.000 ratio = 1.033 hyp_len = 149464 ref_len = 144690)"
      ]
     },
     "execution_count": 8,
     "metadata": {},
     "output_type": "execute_result"
    }
   ],
   "source": [
    "# Print BLEU score result\n",
    "result"
   ]
  },
  {
   "cell_type": "code",
   "execution_count": 9,
   "id": "92ba61a8",
   "metadata": {},
   "outputs": [
    {
     "name": "stdout",
     "output_type": "stream",
     "text": [
      "ROGUE-1 80.45469755485243\n",
      "ROGUE-2 63.77772441079022\n",
      "ROGUE-L 79.09322621199321\n"
     ]
    }
   ],
   "source": [
    "# Calculate ROGUE scores\n",
    "total_r1 = 0\n",
    "total_r2 = 0\n",
    "total_rl = 0\n",
    "scorer = rouge_scorer.RougeScorer(['rouge1', 'rouge2', 'rougeL'], use_stemmer=True)\n",
    "\n",
    "for pred, target in zip(eng_hyp, eng_ref):\n",
    "    scores = scorer.score(pred, target)\n",
    "    total_r1 += scores['rouge1'].fmeasure\n",
    "    total_r2 += scores['rouge2'].fmeasure\n",
    "    total_rl += scores['rougeL'].fmeasure\n",
    "    \n",
    "print(\"ROGUE-1\", 100*total_r1/len(eng_hyp))\n",
    "print(\"ROGUE-2\", 100*total_r2/len(eng_hyp))\n",
    "print(\"ROGUE-L\", 100*total_rl/len(eng_hyp))"
   ]
  },
  {
   "cell_type": "code",
   "execution_count": 10,
   "id": "f2d68405",
   "metadata": {},
   "outputs": [],
   "source": [
    "input_sents = df[\"Spanish\"].to_list()\n",
    "target_sents = df[\"English\"].to_list()\n",
    "pred_sents = df[\"Translated_English\"].to_list()\n"
   ]
  },
  {
   "cell_type": "code",
   "execution_count": 11,
   "id": "2699a5eb",
   "metadata": {},
   "outputs": [
    {
     "name": "stdout",
     "output_type": "stream",
     "text": [
      "Input Sentence: te gustaría enseñarme a jugar al ajedrez\n",
      "Target Sentence: would you like me to teach you how to play chess\n",
      "Predicted Sentence: youd like to teach me how to play chess\n"
     ]
    }
   ],
   "source": [
    "print(\"Input Sentence:\", input_sents[0])\n",
    "print(\"Target Sentence:\", target_sents[0])\n",
    "print(\"Predicted Sentence:\", pred_sents[0])\n"
   ]
  },
  {
   "cell_type": "code",
   "execution_count": 12,
   "id": "8a5b9b61",
   "metadata": {},
   "outputs": [
    {
     "name": "stdout",
     "output_type": "stream",
     "text": [
      "Input Sentence: no se permite fumar en este restaurante\n",
      "Target Sentence: smoking isnt allowed in this restaurant\n",
      "Predicted Sentence: smoking is not allowed in this restaurant\n"
     ]
    }
   ],
   "source": [
    "print(\"Input Sentence:\", input_sents[1])\n",
    "print(\"Target Sentence:\", target_sents[1])\n",
    "print(\"Predicted Sentence:\", pred_sents[1])\n"
   ]
  },
  {
   "cell_type": "code",
   "execution_count": 13,
   "id": "e1a8c7a1",
   "metadata": {},
   "outputs": [
    {
     "name": "stdout",
     "output_type": "stream",
     "text": [
      "Input Sentence: no me gusta la comida picante\n",
      "Target Sentence: i dont like spicy food\n",
      "Predicted Sentence: i dont like spicy food\n"
     ]
    }
   ],
   "source": [
    "print(\"Input Sentence:\", input_sents[5])\n",
    "print(\"Target Sentence:\", target_sents[5])\n",
    "print(\"Predicted Sentence:\", pred_sents[5])\n"
   ]
  },
  {
   "cell_type": "code",
   "execution_count": 14,
   "id": "bd7b3a5f",
   "metadata": {},
   "outputs": [
    {
     "name": "stdout",
     "output_type": "stream",
     "text": [
      "Input Sentence: ayer la pasé verdaderamente bien\n",
      "Target Sentence: i had a really good time yesterday\n",
      "Predicted Sentence: i had a really good time yesterday\n"
     ]
    }
   ],
   "source": [
    "print(\"Input Sentence:\", input_sents[-6])\n",
    "print(\"Target Sentence:\", target_sents[-6])\n",
    "print(\"Predicted Sentence:\", pred_sents[-6])\n"
   ]
  }
 ],
 "metadata": {
  "kernelspec": {
   "display_name": "Python 3 (ipykernel)",
   "language": "python",
   "name": "python3"
  },
  "language_info": {
   "codemirror_mode": {
    "name": "ipython",
    "version": 3
   },
   "file_extension": ".py",
   "mimetype": "text/x-python",
   "name": "python",
   "nbconvert_exporter": "python",
   "pygments_lexer": "ipython3",
   "version": "3.9.13"
  }
 },
 "nbformat": 4,
 "nbformat_minor": 5
}
